{
 "cells": [
  {
   "cell_type": "markdown",
   "metadata": {},
   "source": [
    "# Forestburn with clusterization (Agent-based model)"
   ]
  },
  {
   "cell_type": "code",
   "execution_count": 1,
   "metadata": {},
   "outputs": [],
   "source": [
    "import matplotlib.pyplot as plt\n",
    "import numpy as np"
   ]
  },
  {
   "cell_type": "markdown",
   "metadata": {},
   "source": [
    "### Set up functions"
   ]
  },
  {
   "cell_type": "markdown",
   "metadata": {},
   "source": [
    "Function \"clusterize\" takes matrix representation of forest and returns dictionary with every point in matrix that is a burned tree as a key and labels it with the number of cluster that is the value.  "
   ]
  },
  {
   "cell_type": "code",
   "execution_count": 3,
   "metadata": {},
   "outputs": [],
   "source": [
    "def clusterize(matrix):\n",
    "\n",
    "    ToVisit = []           \n",
    "    clusters = {}\n",
    "    size = matrix.shape[0]-1\n",
    "    current_label = 0\n",
    "    for x in range(1,size+1):\n",
    "        for y in range(1,size+1):\n",
    "            if forest[x,y] == 2 and (x,y) not in clusters:\n",
    "                clusters[(x,y)] = current_label\n",
    "                ToVisit.append((x,y))\n",
    "                while not ToVisit == []:\n",
    "                    c = ToVisit.pop()\n",
    "                    surr=[(c[0]+1,c[1]), (c[0],c[1]+1), (c[0],c[1]-1), (c[0]-1,c[1])]\n",
    "                    for cor in surr:\n",
    "                        if forest[cor] == 2 and cor not in clusters:\n",
    "                            clusters[cor] = current_label\n",
    "                            ToVisit.append(cor)\n",
    "                current_label +=1       \n",
    "    return clusters"
   ]
  },
  {
   "cell_type": "markdown",
   "metadata": {},
   "source": [
    "Clusterization in this function can be described as following:\n",
    "* Create stack \"ToVisit\" and dictionary \"clusters\", read the size of a matrix, set current_label to 0\n",
    "* Go through every point in matrix and do:\n",
    "     * If you find a burned tree (so the value 2) and it is not clustered yet:\n",
    "     * Add this point to the dictionary with current_label as a value and add it's neighbours to a ToVisit stack.\n",
    "     * when ToVisit stack is not empty pop an element from it and check its neighbours if they are burned trees and not clustered yet - if yes they should be labeled with current_label (added to \"clusters\") and added to ToVisit stack.\n",
    "     * If ToVisit stack is empty, that means you have labelled every point in this cluster, change current_label."
   ]
  },
  {
   "cell_type": "markdown",
   "metadata": {},
   "source": [
    "Function \"burnforest\" takes size of the matrix that will be representing the forest and the probability of a given point to be a tree. For instance if the probability is 0.5, then the forest density in theory will be 0.5."
   ]
  },
  {
   "cell_type": "code",
   "execution_count": 22,
   "metadata": {},
   "outputs": [],
   "source": [
    "def burnforest(size, p): #create forest and burn it, return matrix \n",
    "    \n",
    "    # SET UP THE FOREST\n",
    "    forest = np.random.choice([0, 1], size=(size,size), p=[1-p, p])\n",
    "    forest[:,0] *= 2 #STARTING FIREWALL (Left side of matrix. 0-empty, 1-tree, 2-burning/burned tree)\n",
    "    forest = np.pad(forest, ((1,1),(1,1)), 'constant') # ADJUSTING EDGES so there will not be boundary problems\n",
    "    \n",
    "    # START THE STACK\n",
    "    ToVisit = []  \n",
    "    for x in range (1, size+1):\n",
    "        for y in range (1, size+1):\n",
    "            if forest[x,y] == 2:\n",
    "                ToVisit.append((x,y)) # add burning tree to a stack so its neighbours can be checked\n",
    "            \n",
    "    # STACK COMPLETING - BURNING FOREST\n",
    "    while not ToVisit == []:\n",
    "        c = ToVisit.pop()\n",
    "        surr=[(c[0]+1,c[1]), (c[0],c[1]+1), (c[0]+1,c[1]+1), (c[0]-1,c[1]),\n",
    "              (c[0],c[1]-1), (c[0]-1,c[1]-1), (c[0]-1,c[1]+1), (c[0]+1,c[1]-1)]\n",
    "        for cor in surr:\n",
    "            if forest[cor] == 1:\n",
    "                forest[cor] = 2\n",
    "                ToVisit.append(cor)\n",
    "                \n",
    "    return forest"
   ]
  },
  {
   "cell_type": "markdown",
   "metadata": {},
   "source": [
    "### Simulation"
   ]
  },
  {
   "cell_type": "markdown",
   "metadata": {},
   "source": [
    "Let's take reasonable size of forest for the visualisation purposes. In what follows forest will be a matrix 20x20 with density of 0.42."
   ]
  },
  {
   "cell_type": "code",
   "execution_count": 20,
   "metadata": {},
   "outputs": [],
   "source": [
    "matrix_size = 20               \n",
    "forest = burnforest(matrix_size, 0.42)\n",
    "clusters =  clusterize(forest)"
   ]
  },
  {
   "cell_type": "markdown",
   "metadata": {},
   "source": [
    "### Visualisation"
   ]
  },
  {
   "cell_type": "code",
   "execution_count": 21,
   "metadata": {},
   "outputs": [
    {
     "data": {
      "image/png": "[encoded data removed]",
      "text/plain": [
       "<Figure size 864x864 with 1 Axes>"
      ]
     },
     "metadata": {
      "needs_background": "light"
     },
     "output_type": "display_data"
    }
   ],
   "source": [
    "fig, ax = plt.subplots(1,1,figsize=(12,12))\n",
    "im = ax.imshow(forest)   \n",
    "\n",
    "for x in range(1,matrix_size+1):\n",
    "    for y in range(1,matrix_size+1):\n",
    "        if (x,y) in clusters:\n",
    "            text = ax.text(y, x, clusters[(x,y)],\n",
    "                           ha=\"center\", va=\"center\", color=\"k\")\n",
    "plt.show()"
   ]
  },
  {
   "cell_type": "markdown",
   "metadata": {},
   "source": [
    "It is worth mentioning that forest fire is spreading across 8 adjacent points but clusters are considered only across the four nearest neighbours."
   ]
  }
 ],
 "metadata": {
  "kernelspec": {
   "display_name": "Python 3",
   "language": "python",
   "name": "python3"
  },
  "language_info": {
   "codemirror_mode": {
    "name": "ipython",
    "version": 3
   },
   "file_extension": ".py",
   "mimetype": "text/x-python",
   "name": "python",
   "nbconvert_exporter": "python",
   "pygments_lexer": "ipython3",
   "version": "3.7.1"
  }
 },
 "nbformat": 4,
 "nbformat_minor": 2
}
